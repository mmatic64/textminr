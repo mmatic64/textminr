{
 "cells": [
  {
   "cell_type": "code",
   "execution_count": 1,
   "metadata": {},
   "outputs": [
    {
     "name": "stdout",
     "output_type": "stream",
     "text": [
      "milo\n",
      "smatic\n",
      "milo smatic\n"
     ]
    }
   ],
   "source": [
    "text = \"milo\\nsmatic\"\n",
    "print(text)\n",
    "\n",
    "text = text.replace(\"\\n\", \" \")\n",
    "print(text)"
   ]
  },
  {
   "cell_type": "code",
   "execution_count": 4,
   "metadata": {},
   "outputs": [
    {
     "name": "stderr",
     "output_type": "stream",
     "text": [
      "Some weights of the model checkpoint at dbmdz/bert-large-cased-finetuned-conll03-english were not used when initializing BertForTokenClassification: ['bert.pooler.dense.bias', 'bert.pooler.dense.weight']\n",
      "- This IS expected if you are initializing BertForTokenClassification from the checkpoint of a model trained on another task or with another architecture (e.g. initializing a BertForSequenceClassification model from a BertForPreTraining model).\n",
      "- This IS NOT expected if you are initializing BertForTokenClassification from the checkpoint of a model that you expect to be exactly identical (initializing a BertForSequenceClassification model from a BertForSequenceClassification model).\n"
     ]
    },
    {
     "name": "stdout",
     "output_type": "stream",
     "text": [
      "start\n"
     ]
    }
   ],
   "source": [
    "import re\n",
    "from transformers import pipeline\n",
    "\n",
    "# Load a pre-trained NER model from Hugging Face\n",
    "nlp = pipeline(\"ner\", model=\"dbmdz/bert-large-cased-finetuned-conll03-english\")\n",
    "\n",
    "# Your text\n",
    "text = \"\"\"Fünf Schlösser. Altes und Neues aus Mark Brandenburg. J. G. Cotta'sche Buchhandlung, Stuttgart 1889 (Digitalisat). \n",
    "Stine. Berliner Sitten-Roman. Verlag F. Fontane & Co., Berlin 1890 (online). \n",
    "Quitt. Verlag Wilhelm Hertz, Berlin 1891 (online). \n",
    "Unwiederbringlich. Verlag Wilhelm Hertz, Berlin 1892 (online). \n",
    "Frau Jenny Treibel oder „Wo sich Herz zum Herzen find’t.“ Roman. Verlag F. Fontane & Co., Berlin 1893 (Digitalisat Ausgabe 1915). \n",
    "Meine Kinderjahre. Autobiographischer Roman. Verlag F. Fontane & Co., Berlin 1894 (Digitalisat). \n",
    "Effi Briest. Roman. Verlag F. Fontane & Co., Berlin 1896 (Digitalisat). \n",
    "Die Poggenpuhls. Roman. Verlag F. Fontane & Co., Berlin 1896 (online). Digitalisierung: Zentral- und Landesbibliothek Berlin, 2020. URN urn:nbn:de:kobv:109-1-15423623\n",
    "Von Zwanzig bis Dreißig. Autobiogra\"\"\"\n",
    "\n",
    "# Apply the NER model\n",
    "entities = nlp(text)\n",
    "\n",
    "# Extract book titles and corresponding positions\n",
    "book_titles = []\n",
    "for ent in entities:\n",
    "    if ent['entity'] == 'MISC':  # Assuming book titles might be tagged as MISC (miscellaneous)\n",
    "        book_titles.append((ent['word'], ent['start'], ent['end']))\n",
    "\n",
    "# Define a regular expression pattern to match years\n",
    "year_pattern = re.compile(r'\\b(18|19|20)\\d{2}\\b')\n",
    "\n",
    "# Extract years and their positions\n",
    "years = [(match.group(), match.start(), match.end()) for match in year_pattern.finditer(text)]\n",
    "\n",
    "# Helper function to find the nearest year to a book title\n",
    "def find_nearest_year(book_end, years):\n",
    "    nearest_year = None\n",
    "    min_distance = float('inf')\n",
    "    for year, start, end in years:\n",
    "        distance = abs(book_end - start)\n",
    "        if distance < min_distance:\n",
    "            min_distance = distance\n",
    "            nearest_year = year\n",
    "    return nearest_year\n",
    "\n",
    "print(\"start\")\n",
    "# Match book titles with nearest years\n",
    "book_with_years = []\n",
    "for book, start, end in book_titles:\n",
    "    nearest_year = find_nearest_year(end, years)\n",
    "    book_with_years.append((book, nearest_year))\n",
    "\n",
    "# Print results\n",
    "for book, year in book_with_years:\n",
    "    print(f\"Book: {book}, Year: {year}\")\n"
   ]
  },
  {
   "cell_type": "code",
   "execution_count": 5,
   "metadata": {},
   "outputs": [
    {
     "name": "stdout",
     "output_type": "stream",
     "text": [
      "-1000\n"
     ]
    }
   ],
   "source": [
    "n = -500*2\n",
    "print(n)"
   ]
  },
  {
   "cell_type": "code",
   "execution_count": 14,
   "metadata": {},
   "outputs": [
    {
     "ename": "ValueError",
     "evalue": "min() arg is an empty sequence",
     "output_type": "error",
     "traceback": [
      "\u001b[0;31m---------------------------------------------------------------------------\u001b[0m",
      "\u001b[0;31mValueError\u001b[0m                                Traceback (most recent call last)",
      "\u001b[0;32m/tmp/ipykernel_3562/2017603473.py\u001b[0m in \u001b[0;36m<module>\u001b[0;34m\u001b[0m\n\u001b[1;32m      3\u001b[0m \u001b[0;34m\u001b[0m\u001b[0m\n\u001b[1;32m      4\u001b[0m \u001b[0mp\u001b[0m \u001b[0;34m=\u001b[0m \u001b[0mnumpy\u001b[0m\u001b[0;34m.\u001b[0m\u001b[0mempty\u001b[0m\u001b[0;34m(\u001b[0m\u001b[0;36m0\u001b[0m\u001b[0;34m,\u001b[0m \u001b[0mdtype\u001b[0m\u001b[0;34m=\u001b[0m\u001b[0mint\u001b[0m\u001b[0;34m)\u001b[0m\u001b[0;34m\u001b[0m\u001b[0;34m\u001b[0m\u001b[0m\n\u001b[0;32m----> 5\u001b[0;31m \u001b[0mprint\u001b[0m\u001b[0;34m(\u001b[0m\u001b[0mmin\u001b[0m\u001b[0;34m(\u001b[0m\u001b[0mp\u001b[0m\u001b[0;34m)\u001b[0m\u001b[0;34m)\u001b[0m\u001b[0;34m\u001b[0m\u001b[0;34m\u001b[0m\u001b[0m\n\u001b[0m\u001b[1;32m      6\u001b[0m \u001b[0mp\u001b[0m \u001b[0;34m=\u001b[0m \u001b[0mnumpy\u001b[0m\u001b[0;34m.\u001b[0m\u001b[0mappend\u001b[0m\u001b[0;34m(\u001b[0m\u001b[0mp\u001b[0m\u001b[0;34m,\u001b[0m \u001b[0;36m5\u001b[0m\u001b[0;34m)\u001b[0m\u001b[0;34m\u001b[0m\u001b[0;34m\u001b[0m\u001b[0m\n\u001b[1;32m      7\u001b[0m \u001b[0mp\u001b[0m \u001b[0;34m=\u001b[0m \u001b[0mnumpy\u001b[0m\u001b[0;34m.\u001b[0m\u001b[0mappend\u001b[0m\u001b[0;34m(\u001b[0m\u001b[0mp\u001b[0m\u001b[0;34m,\u001b[0m \u001b[0;36m15\u001b[0m\u001b[0;34m)\u001b[0m\u001b[0;34m\u001b[0m\u001b[0;34m\u001b[0m\u001b[0m\n",
      "\u001b[0;31mValueError\u001b[0m: min() arg is an empty sequence"
     ]
    }
   ],
   "source": [
    "import numpy\n",
    "import math\n",
    "\n",
    "p = numpy.empty(0, dtype=int)\n",
    "print(min(p))\n",
    "p = numpy.append(p, 5)\n",
    "p = numpy.append(p, 15)\n",
    "p = numpy.append(p, 25)\n",
    "p = numpy.append(p, 35)\n",
    "p = numpy.append(p, 45)\n",
    "print(min(p-30))\n",
    "\n",
    "print((p-30)*(p-30))\n",
    "print(p)\n",
    "p = p-30\n",
    "print(p)\n",
    "p = p*p\n",
    "print(p)\n",
    "print(min(p))\n",
    "math.sqrt(25)+500\n"
   ]
  },
  {
   "cell_type": "code",
   "execution_count": 15,
   "metadata": {},
   "outputs": [
    {
     "name": "stdout",
     "output_type": "stream",
     "text": [
      "-250000\n"
     ]
    }
   ],
   "source": [
    "print(-500*500)"
   ]
  },
  {
   "cell_type": "code",
   "execution_count": 17,
   "metadata": {},
   "outputs": [
    {
     "name": "stdout",
     "output_type": "stream",
     "text": [
      "1\n",
      "[1, 3, 2, 4, 1, 5]\n",
      "[1, 1, 2, 3, 4, 5]\n"
     ]
    },
    {
     "data": {
      "text/plain": [
       "3"
      ]
     },
     "execution_count": 17,
     "metadata": {},
     "output_type": "execute_result"
    }
   ],
   "source": [
    "a = [1, 3, 2, 4, 1, 5]\n",
    "print(a.index(3))\n",
    "print(a)\n",
    "a.sort()\n",
    "print(a)\n",
    "a.index(3)"
   ]
  },
  {
   "cell_type": "code",
   "execution_count": 9,
   "metadata": {},
   "outputs": [
    {
     "name": "stdout",
     "output_type": "stream",
     "text": [
      "[ 5 15 25 35 45]\n",
      "[-25 -15  -5   5  15]\n"
     ]
    }
   ],
   "source": [
    "import numpy as np\n",
    "\n",
    "p = np.array([5, 15, 25, 35, 45])\n",
    "\n",
    "print(p)\n",
    "p = np.subtract(p, 30)\n",
    "print(p)"
   ]
  }
 ],
 "metadata": {
  "kernelspec": {
   "display_name": "Python 3",
   "language": "python",
   "name": "python3"
  },
  "language_info": {
   "codemirror_mode": {
    "name": "ipython",
    "version": 3
   },
   "file_extension": ".py",
   "mimetype": "text/x-python",
   "name": "python",
   "nbconvert_exporter": "python",
   "pygments_lexer": "ipython3",
   "version": "3.10.12"
  }
 },
 "nbformat": 4,
 "nbformat_minor": 2
}
