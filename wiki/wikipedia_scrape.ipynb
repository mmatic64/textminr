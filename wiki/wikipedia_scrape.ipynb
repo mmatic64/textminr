{
 "cells": [
  {
   "cell_type": "markdown",
   "metadata": {},
   "source": [
    "# Webscraping Wikipedia pages"
   ]
  },
  {
   "cell_type": "markdown",
   "metadata": {},
   "source": [
    "### Getting to know the packages"
   ]
  },
  {
   "cell_type": "code",
   "execution_count": 3,
   "metadata": {},
   "outputs": [
    {
     "name": "stdout",
     "output_type": "stream",
     "text": [
      "200\n"
     ]
    }
   ],
   "source": [
    "import requests\n",
    "\n",
    "response = requests.get(\n",
    "\turl=\"https://en.wikipedia.org/wiki/Web_scraping\",\n",
    ")\n",
    "print(response.status_code)"
   ]
  },
  {
   "cell_type": "code",
   "execution_count": 12,
   "metadata": {},
   "outputs": [
    {
     "name": "stdout",
     "output_type": "stream",
     "text": [
      "Georg Biermann\n"
     ]
    }
   ],
   "source": [
    "import requests\n",
    "from bs4 import BeautifulSoup\n",
    "\n",
    "response = requests.get(\n",
    "\turl=\"https://en.wikipedia.org/wiki/Georg_Biermann\",\n",
    ")\n",
    "soup = BeautifulSoup(response.content, 'html.parser')\n",
    "\n",
    "title = soup.find(id=\"firstHeading\")\n",
    "print(title.string)\n"
   ]
  },
  {
   "cell_type": "code",
   "execution_count": 13,
   "metadata": {},
   "outputs": [
    {
     "name": "stdout",
     "output_type": "stream",
     "text": [
      "Web scraping\n",
      "[<a href=\"/wiki/American_Airlines\" title=\"American Airlines\">American Airlines</a>]\n"
     ]
    }
   ],
   "source": [
    "import requests\n",
    "from bs4 import BeautifulSoup\n",
    "import random\n",
    "\n",
    "response = requests.get(\n",
    "\turl=\"https://en.wikipedia.org/wiki/Web_scraping\",\n",
    ")\n",
    "soup = BeautifulSoup(response.content, 'html.parser')\n",
    "\n",
    "title = soup.find(id=\"firstHeading\")\n",
    "print(title.content)\n",
    "\n",
    "# Get all the links\n",
    "allLinks = soup.find(id=\"bodyContent\").find_all(\"a\")\n",
    "random.shuffle(allLinks)\n",
    "linkToScrape = []\n",
    "\n",
    "for link in allLinks:\n",
    "\t# We are only interested in other wiki articles\n",
    "\tif link['href'].find(\"/wiki/\") == -1: \n",
    "\t\tcontinue\n",
    "\n",
    "\t# Use this link to scrape\n",
    "\tlinkToScrape.append(link)\n",
    "\tbreak\n",
    "\n",
    "print(linkToScrape)\n"
   ]
  },
  {
   "cell_type": "markdown",
   "metadata": {},
   "source": [
    "### The Code"
   ]
  },
  {
   "cell_type": "markdown",
   "metadata": {},
   "source": [
    "In this section just the Author and the Titel are given"
   ]
  },
  {
   "cell_type": "code",
   "execution_count": 96,
   "metadata": {},
   "outputs": [],
   "source": [
    "\n",
    "\n",
    "author = \"Otto Flake\"\n",
    "title = \"Nein und Ja\""
   ]
  },
  {
   "cell_type": "markdown",
   "metadata": {},
   "source": [
    "Here are the defined funtions for searching a wikipedia page."
   ]
  },
  {
   "cell_type": "code",
   "execution_count": 104,
   "metadata": {},
   "outputs": [
    {
     "name": "stdout",
     "output_type": "stream",
     "text": [
      "raim_Frisch\" title=\"Efraim Frisch\">Efraim Frisch</a> u. a. 4. Jg. Heft 8, November 1920</li>\n",
      "<li><i>Nein und Ja.</i> S. Fischer, Berlin 1920 (<a class=\"external text\" href=\"https://www.gutenberg.org/c\n"
     ]
    }
   ],
   "source": [
    "import requests\n",
    "from bs4 import BeautifulSoup\n",
    "import random\n",
    "\n",
    "author.replace(\" \", \"_\")\n",
    "\n",
    "response = requests.get(\n",
    "\turl=\"https://de.wikipedia.org/wiki/\" + author,\n",
    ")\n",
    "\n",
    "soup = BeautifulSoup(response.content, 'html.parser')\n",
    "\n",
    "# find the content of the page\n",
    "content = soup.find_all('div', class_='mw-content-ltr').__str__()\n",
    "\n",
    "# find the location of the title in the page\n",
    "location = content.find(title)\n",
    "\n",
    "margin = 100\n",
    "# find the sentence containing the title\n",
    "text_to_check = content[location-margin:location+margin]\n",
    "print(text_to_check)"
   ]
  },
  {
   "cell_type": "code",
   "execution_count": 103,
   "metadata": {},
   "outputs": [
    {
     "ename": "KeyboardInterrupt",
     "evalue": "",
     "output_type": "error",
     "traceback": [
      "\u001b[0;31m---------------------------------------------------------------------------\u001b[0m",
      "\u001b[0;31mKeyboardInterrupt\u001b[0m                         Traceback (most recent call last)",
      "\u001b[0;32m/tmp/ipykernel_34610/3671518715.py\u001b[0m in \u001b[0;36m<module>\u001b[0;34m\u001b[0m\n\u001b[1;32m     17\u001b[0m     \u001b[0;32mreturn\u001b[0m \u001b[0mtext\u001b[0m\u001b[0;34m\u001b[0m\u001b[0;34m\u001b[0m\u001b[0m\n\u001b[1;32m     18\u001b[0m \u001b[0;34m\u001b[0m\u001b[0m\n\u001b[0;32m---> 19\u001b[0;31m \u001b[0mprint\u001b[0m\u001b[0;34m(\u001b[0m\u001b[0mclear_text\u001b[0m\u001b[0;34m(\u001b[0m\u001b[0mtext_to_check\u001b[0m\u001b[0;34m)\u001b[0m\u001b[0;34m)\u001b[0m\u001b[0;34m\u001b[0m\u001b[0;34m\u001b[0m\u001b[0m\n\u001b[0m",
      "\u001b[0;32m/tmp/ipykernel_34610/3671518715.py\u001b[0m in \u001b[0;36mclear_text\u001b[0;34m(text)\u001b[0m\n\u001b[1;32m      5\u001b[0m     \u001b[0mhtml\u001b[0m \u001b[0;34m=\u001b[0m \u001b[0;32mFalse\u001b[0m\u001b[0;34m\u001b[0m\u001b[0;34m\u001b[0m\u001b[0m\n\u001b[1;32m      6\u001b[0m     \u001b[0mi\u001b[0m \u001b[0;34m=\u001b[0m \u001b[0;36m0\u001b[0m\u001b[0;34m\u001b[0m\u001b[0;34m\u001b[0m\u001b[0m\n\u001b[0;32m----> 7\u001b[0;31m     \u001b[0;32mwhile\u001b[0m \u001b[0mi\u001b[0m \u001b[0;34m<\u001b[0m \u001b[0mlen\u001b[0m\u001b[0;34m(\u001b[0m\u001b[0mtext\u001b[0m\u001b[0;34m)\u001b[0m\u001b[0;34m:\u001b[0m\u001b[0;34m\u001b[0m\u001b[0;34m\u001b[0m\u001b[0m\n\u001b[0m\u001b[1;32m      8\u001b[0m         \u001b[0;32mif\u001b[0m \u001b[0mtext\u001b[0m\u001b[0;34m[\u001b[0m\u001b[0mi\u001b[0m\u001b[0;34m]\u001b[0m \u001b[0;34m==\u001b[0m \u001b[0;34m'<'\u001b[0m\u001b[0;34m:\u001b[0m\u001b[0;34m\u001b[0m\u001b[0;34m\u001b[0m\u001b[0m\n\u001b[1;32m      9\u001b[0m             \u001b[0mhtml\u001b[0m \u001b[0;34m=\u001b[0m \u001b[0;32mTrue\u001b[0m\u001b[0;34m\u001b[0m\u001b[0;34m\u001b[0m\u001b[0m\n",
      "\u001b[0;31mKeyboardInterrupt\u001b[0m: "
     ]
    }
   ],
   "source": [
    "def clear_text(text):\n",
    "    if text.find(\">\") < text.find(\"<\"):\n",
    "        text = text[text.find(\">\")+1:]\n",
    "\n",
    "    html = False\n",
    "    i = 0\n",
    "    while i < len(text):\n",
    "        if text[i] == '<':\n",
    "            html = True\n",
    "        if html:\n",
    "            if text[i] == '>':\n",
    "                html = False\n",
    "            text = text[:i] + text[i+1:]\n",
    "            i -= 1\n",
    "        i += 1\n",
    "    return text\n",
    "\n",
    "print(clear_text(text_to_check))"
   ]
  },
  {
   "cell_type": "code",
   "execution_count": 89,
   "metadata": {},
   "outputs": [
    {
     "data": {
      "text/plain": [
       "[{'entity_group': 'AUTHOR',\n",
       "  'score': 0.90151995,\n",
       "  'word': 'Efraim Frisch',\n",
       "  'start': 0,\n",
       "  'end': 13},\n",
       " {'entity_group': 'DATE',\n",
       "  'score': 0.99925,\n",
       "  'word': '1920',\n",
       "  'start': 44,\n",
       "  'end': 48},\n",
       " {'entity_group': 'AUTHOR',\n",
       "  'score': 0.9916539,\n",
       "  'word': 'S. Fischer',\n",
       "  'start': 62,\n",
       "  'end': 72},\n",
       " {'entity_group': 'DATE',\n",
       "  'score': 0.9991829,\n",
       "  'word': '1920',\n",
       "  'start': 81,\n",
       "  'end': 85}]"
      ]
     },
     "execution_count": 89,
     "metadata": {},
     "output_type": "execute_result"
    }
   ],
   "source": [
    "model_id = 'textminr/ner-multilingual-bert'\n",
    "\n",
    "from transformers import pipeline\n",
    "classifier = pipeline(\n",
    "  'ner',\n",
    "  model=model_id,\n",
    "  aggregation_strategy='simple'\n",
    ")\n",
    "\n",
    "classifier(text)"
   ]
  }
 ],
 "metadata": {
  "kernelspec": {
   "display_name": "Python 3",
   "language": "python",
   "name": "python3"
  },
  "language_info": {
   "codemirror_mode": {
    "name": "ipython",
    "version": 3
   },
   "file_extension": ".py",
   "mimetype": "text/x-python",
   "name": "python",
   "nbconvert_exporter": "python",
   "pygments_lexer": "ipython3",
   "version": "3.10.12"
  }
 },
 "nbformat": 4,
 "nbformat_minor": 2
}
